{
 "cells": [
  {
   "cell_type": "code",
   "execution_count": 1,
   "metadata": {},
   "outputs": [],
   "source": [
    "import numpy as np\n",
    "import matplotlib.pyplot as plt\n",
    "\n",
    "import henon_map_cpp as hm"
   ]
  },
  {
   "cell_type": "code",
   "execution_count": 7,
   "metadata": {},
   "outputs": [],
   "source": [
    "test_particle = hm.particles(\n",
    "    np.array([0.1, 0.2]),\n",
    "    np.array([0.1, 0.2]),\n",
    "    np.array([0.1, 0.2]),\n",
    "    np.array([0.1, 0.2]),\n",
    ")"
   ]
  },
  {
   "cell_type": "code",
   "execution_count": 8,
   "metadata": {},
   "outputs": [],
   "source": [
    "test_particle.add_ghost(1e-6, \"x\")\n",
    "test_particle.add_ghost(1e-6, \"px\")\n",
    "test_particle.add_ghost(1e-6, \"y\")\n",
    "test_particle.add_ghost(1e-6, \"py\")"
   ]
  },
  {
   "cell_type": "code",
   "execution_count": 9,
   "metadata": {},
   "outputs": [
    {
     "data": {
      "text/plain": [
       "(4, 2, 4)"
      ]
     },
     "execution_count": 9,
     "metadata": {},
     "output_type": "execute_result"
    }
   ],
   "source": [
    "test_particle.get_displacement_direction().shape"
   ]
  },
  {
   "cell_type": "code",
   "execution_count": 11,
   "metadata": {},
   "outputs": [
    {
     "data": {
      "text/plain": [
       "(2, 4)"
      ]
     },
     "execution_count": 11,
     "metadata": {},
     "output_type": "execute_result"
    }
   ],
   "source": [
    "test_particle.get_displacement_module().shape"
   ]
  },
  {
   "cell_type": "code",
   "execution_count": 12,
   "metadata": {},
   "outputs": [
    {
     "name": "stdout",
     "output_type": "stream",
     "text": [
      "[[1.e-06 1.e-06 1.e-06 1.e-06]\n",
      " [1.e-06 1.e-06 1.e-06 1.e-06]]\n",
      "[[[1. 0. 0. 0.]\n",
      "  [1. 0. 0. 0.]]\n",
      "\n",
      " [[0. 1. 0. 0.]\n",
      "  [0. 1. 0. 0.]]\n",
      "\n",
      " [[0. 0. 1. 0.]\n",
      "  [0. 0. 1. 0.]]\n",
      "\n",
      " [[0. 0. 0. 1.]\n",
      "  [0. 0. 0. 1.]]]\n"
     ]
    }
   ],
   "source": [
    "print(test_particle.get_displacement_module())\n",
    "print(test_particle.get_displacement_direction())"
   ]
  },
  {
   "cell_type": "code",
   "execution_count": 13,
   "metadata": {},
   "outputs": [
    {
     "name": "stdout",
     "output_type": "stream",
     "text": [
      "creating gpu tracker\n"
     ]
    }
   ],
   "source": [
    "tracker = hm.henon_tracker(10000000, 0.31, 0.32, \"sps\")"
   ]
  },
  {
   "cell_type": "code",
   "execution_count": 14,
   "metadata": {},
   "outputs": [],
   "source": [
    "tracker.track(test_particle, 10, 0.0)"
   ]
  },
  {
   "cell_type": "code",
   "execution_count": 15,
   "metadata": {},
   "outputs": [
    {
     "name": "stdout",
     "output_type": "stream",
     "text": [
      "[[1.20979365e-06 1.20867294e-06 7.56657378e-07 1.72331794e-06]\n",
      " [2.39233282e-06 1.90266132e-06 1.24834940e-06 3.36351653e-06]]\n",
      "[[[ 0.42450366  0.55144131 -0.00198495  0.33805085]\n",
      "  [-0.3548245   0.73205697 -0.16842161  0.52595998]]\n",
      "\n",
      " [[-0.82057404  0.78262658  0.33382239  0.11899052]\n",
      "  [-0.75661284  0.63833012  0.15945499  0.19520492]]\n",
      "\n",
      " [[ 0.1104995   0.21815873  0.0996365   0.92736746]\n",
      "  [ 0.3056205   0.08789436 -0.78654115  0.81550289]]\n",
      "\n",
      " [[ 0.36639425 -0.18924824 -0.93735332  0.10748239]\n",
      "  [ 0.45632521 -0.22113757 -0.5723297   0.14218363]]]\n"
     ]
    }
   ],
   "source": [
    "print(test_particle.get_displacement_module())\n",
    "print(test_particle.get_displacement_direction())"
   ]
  },
  {
   "cell_type": "code",
   "execution_count": 16,
   "metadata": {},
   "outputs": [
    {
     "name": "stdout",
     "output_type": "stream",
     "text": [
      "[[1.e-06 1.e-06 1.e-06 1.e-06]\n",
      " [1.e-06 1.e-06 1.e-06 1.e-06]]\n",
      "[[[ 0.42450366  0.55144131 -0.00198495  0.33805085]\n",
      "  [-0.3548245   0.73205697 -0.16842161  0.52595998]]\n",
      "\n",
      " [[-0.82057404  0.78262658  0.33382239  0.11899052]\n",
      "  [-0.75661284  0.63833012  0.15945499  0.19520492]]\n",
      "\n",
      " [[ 0.1104995   0.21815873  0.0996365   0.92736746]\n",
      "  [ 0.3056205   0.08789436 -0.78654115  0.81550289]]\n",
      "\n",
      " [[ 0.36639425 -0.18924824 -0.93735332  0.10748239]\n",
      "  [ 0.45632521 -0.22113757 -0.5723297   0.14218363]]]\n"
     ]
    }
   ],
   "source": [
    "test_particle.renormalize(1e-6)\n",
    "print(test_particle.get_displacement_module())\n",
    "print(test_particle.get_displacement_direction())"
   ]
  },
  {
   "cell_type": "code",
   "execution_count": 70,
   "metadata": {},
   "outputs": [],
   "source": [
    "x = np.linspace(0, 0.25, 100)\n",
    "y = np.linspace(0, 0.25, 100)\n",
    "\n",
    "xx, yy = np.meshgrid(x, y)\n",
    "\n",
    "xx = xx.flatten()\n",
    "yy = yy.flatten()\n",
    "\n",
    "test_particle = hm.particles(\n",
    "    xx,\n",
    "    np.zeros(len(xx)),\n",
    "    yy,\n",
    "    np.zeros(len(xx)),\n",
    ")"
   ]
  },
  {
   "cell_type": "code",
   "execution_count": 71,
   "metadata": {},
   "outputs": [
    {
     "name": "stdout",
     "output_type": "stream",
     "text": [
      "creating gpu tracker\n"
     ]
    }
   ],
   "source": [
    "tracker = hm.henon_tracker(10000000, 0.31, 0.32, \"sps\", epsilon=8.0)"
   ]
  },
  {
   "cell_type": "code",
   "execution_count": 72,
   "metadata": {},
   "outputs": [],
   "source": [
    "tracker.track(test_particle, 1000000, 0.0)"
   ]
  },
  {
   "cell_type": "code",
   "execution_count": 73,
   "metadata": {},
   "outputs": [
    {
     "data": {
      "text/plain": [
       "<matplotlib.image.AxesImage at 0x7fdbf3bea830>"
      ]
     },
     "execution_count": 73,
     "metadata": {},
     "output_type": "execute_result"
    },
    {
     "data": {
      "image/png": "[encoded data removed]",
      "text/plain": [
       "<Figure size 640x480 with 1 Axes>"
      ]
     },
     "metadata": {},
     "output_type": "display_data"
    }
   ],
   "source": [
    "plt.imshow(np.log10(test_particle.get_steps()).reshape(100, 100), origin=\"lower\")"
   ]
  },
  {
   "cell_type": "code",
   "execution_count": null,
   "metadata": {},
   "outputs": [],
   "source": []
  }
 ],
 "metadata": {
  "kernelspec": {
   "display_name": "base",
   "language": "python",
   "name": "python3"
  },
  "language_info": {
   "codemirror_mode": {
    "name": "ipython",
    "version": 3
   },
   "file_extension": ".py",
   "mimetype": "text/x-python",
   "name": "python",
   "nbconvert_exporter": "python",
   "pygments_lexer": "ipython3",
   "version": "3.10.9"
  },
  "orig_nbformat": 4
 },
 "nbformat": 4,
 "nbformat_minor": 2
}
