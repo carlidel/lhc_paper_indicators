{
 "cells": [
  {
   "cell_type": "code",
   "execution_count": 16,
   "metadata": {},
   "outputs": [],
   "source": [
    "import json\n",
    "import os\n",
    "\n",
    "import numpy as np\n",
    "import xobjects as xo\n",
    "import xpart as xp\n",
    "import xtrack as xt\n",
    "import xtrack.twiss as xtw\n",
    "\n",
    "import matplotlib.pyplot as plt"
   ]
  },
  {
   "cell_type": "code",
   "execution_count": 2,
   "metadata": {},
   "outputs": [],
   "source": [
    "def get_twiss_data(\n",
    "    twiss: xtw.TwissTable, nemitt_x: float, nemitt_y: float, _context, idx_pos=0\n",
    "):\n",
    "    \"\"\"Get the twiss data for the given twiss object and the given normalized emittance values.\n",
    "\n",
    "    Parameters\n",
    "    ----------\n",
    "    twiss : xtrack.Twiss\n",
    "        Twiss object\n",
    "    nemitt_x : float\n",
    "        Normalized emittance in x\n",
    "    nemitt_y : float\n",
    "        Normalized emittance in y\n",
    "    _context : xobjects.Context\n",
    "        Context to use\n",
    "    idx_pos : int, optional\n",
    "        Index of the position to use, by default 0\n",
    "\n",
    "    Returns\n",
    "    -------\n",
    "    twiss_data : xobjects.Array\n",
    "        Twiss data with the following structure:\n",
    "        [nemitt_x, nemitt_y, twiss.x[idx_pos], twiss.px[idx_pos], twiss.y[idx_pos], twiss.py[idx_pos], twiss.zeta[idx_pos], twiss.ptau[idx_pos]]\n",
    "    w : xobjects.Array\n",
    "        Twiss W matrix\n",
    "    w_inv : xobjects.Array\n",
    "        Twiss W inverse matrix\n",
    "    \"\"\"\n",
    "    twiss_data = _context.nplike_array_type(8)\n",
    "\n",
    "    twiss_data[0] = nemitt_x\n",
    "    twiss_data[1] = nemitt_y\n",
    "\n",
    "    twiss_data[2] = twiss.x[idx_pos]\n",
    "    twiss_data[3] = twiss.px[idx_pos]\n",
    "    twiss_data[4] = twiss.y[idx_pos]\n",
    "    twiss_data[5] = twiss.py[idx_pos]\n",
    "    twiss_data[6] = twiss.zeta[idx_pos]\n",
    "    twiss_data[7] = twiss.ptau[idx_pos]\n",
    "\n",
    "    w = _context.nparray_to_context_array(twiss.W_matrix[idx_pos])\n",
    "    w_inv = _context.nparray_to_context_array(np.linalg.inv(twiss.W_matrix[idx_pos]))\n",
    "\n",
    "    return twiss_data, w, w_inv\n",
    "\n",
    "\n",
    "def get_gemitt(part: xp.Particles, twiss_data):\n",
    "    gemitt_x = twiss_data[0] / part._xobject.beta0[0] / part._xobject.gamma0[0]\n",
    "    gemitt_y = twiss_data[1] / part._xobject.beta0[0] / part._xobject.gamma0[0]\n",
    "    return gemitt_x, gemitt_y\n",
    "\n",
    "\n",
    "def phys_to_norm(part: xp.Particles, normed_part, twiss_data, w_inv):\n",
    "    \"\"\"Transform the physical coordinates to normalized coordinates.\n",
    "\n",
    "    Parameters\n",
    "    ----------\n",
    "    part : xp.Particles\n",
    "        Particles object\n",
    "    normed_part : xo.ContextArray\n",
    "        Normalized particles object\n",
    "    twiss_data : xo.ContextArray\n",
    "        Twiss data\n",
    "    w_inv : xo.ContextArray\n",
    "        Twiss W inverse matrix\n",
    "\n",
    "    Returns\n",
    "    -------\n",
    "    normed_part : xo.ContextArray\n",
    "        Normalized particles object\n",
    "    \"\"\"\n",
    "    mask = part.state <= 0\n",
    "    gemitt_x = twiss_data[0] / part._xobject.beta0[0] / part._xobject.gamma0[0]\n",
    "    gemitt_y = twiss_data[1] / part._xobject.beta0[0] / part._xobject.gamma0[0]\n",
    "\n",
    "    normed_part[0] = part.x - twiss_data[2]\n",
    "    normed_part[1] = part.px - twiss_data[3]\n",
    "    normed_part[2] = part.y - twiss_data[4]\n",
    "    normed_part[3] = part.py - twiss_data[5]\n",
    "    normed_part[4] = part.zeta - twiss_data[6]\n",
    "    normed_part[5] = (part.ptau - twiss_data[7]) / part._xobject.beta0[0]\n",
    "\n",
    "    normed_part = np.dot(w_inv, normed_part)\n",
    "\n",
    "    normed_part[0] /= np.sqrt(gemitt_x)\n",
    "    normed_part[1] /= np.sqrt(gemitt_x)\n",
    "    normed_part[2] /= np.sqrt(gemitt_y)\n",
    "    normed_part[3] /= np.sqrt(gemitt_y)\n",
    "\n",
    "    normed_part[:, mask] = np.nan\n",
    "\n",
    "    return normed_part\n",
    "\n",
    "\n",
    "def norm_to_phys(normed_part, part: xp.Particles, twiss_data, w):\n",
    "    \"\"\"Transform the normalized coordinates to physical coordinates.\n",
    "\n",
    "    Parameters\n",
    "    ----------\n",
    "    normed_part : xo.ContextArray\n",
    "        Normalized particles object\n",
    "    part : xp.Particles\n",
    "        Particles object\n",
    "    twiss_data : xo.ContextArray\n",
    "        Twiss data\n",
    "    w : xo.ContextArray\n",
    "        Twiss W matrix\n",
    "\n",
    "    Returns\n",
    "    -------\n",
    "    part : xp.Particles\n",
    "        Particles object\n",
    "    \"\"\"\n",
    "    mask = part.state <= 0\n",
    "    gemitt_x = twiss_data[0] / part._xobject.beta0[0] / part._xobject.gamma0[0]\n",
    "    gemitt_y = twiss_data[1] / part._xobject.beta0[0] / part._xobject.gamma0[0]\n",
    "\n",
    "    normed = normed_part.copy()\n",
    "    normed[0] *= np.sqrt(gemitt_x)\n",
    "    normed[1] *= np.sqrt(gemitt_x)\n",
    "    normed[2] *= np.sqrt(gemitt_y)\n",
    "    normed[3] *= np.sqrt(gemitt_y)\n",
    "\n",
    "    normed = np.dot(w, normed)\n",
    "\n",
    "    part.zeta = normed[4] + twiss_data[6]\n",
    "    part.ptau = normed[5] * part._xobject.beta0[0] + twiss_data[7]\n",
    "\n",
    "    part.x = normed[0] + twiss_data[2]\n",
    "    part.px = normed[1] + twiss_data[3]\n",
    "    part.y = normed[2] + twiss_data[4]\n",
    "    part.py = normed[3] + twiss_data[5]\n",
    "\n",
    "    return part"
   ]
  },
  {
   "cell_type": "code",
   "execution_count": 3,
   "metadata": {},
   "outputs": [],
   "source": [
    "MASKPATH = \"../masks/mask_b1_without_bb_33.json\"\n",
    "p0c = 7000e9\n",
    "nemitt_x = 2.5e-6\n",
    "nemitt_y = 2.5e-6"
   ]
  },
  {
   "cell_type": "code",
   "execution_count": 4,
   "metadata": {},
   "outputs": [
    {
     "name": "stdout",
     "output_type": "stream",
     "text": [
      "Done loading line from dict.           \n",
      "Compiling ContextCpu kernels...\n",
      "Done compiling ContextCpu kernels.\n"
     ]
    }
   ],
   "source": [
    "_context = xo.ContextCpu()\n",
    "\n",
    "with open((MASKPATH), \"r\") as f:\n",
    "    mask = json.load(f)\n",
    "\n",
    "line = xt.Line.from_dict(mask)\n",
    "line.build_tracker(_context=_context)\n",
    "line.particle_ref = xp.Particles(mass0=xp.PROTON_MASS_EV, q0=1, p0c=p0c)\n",
    "twiss = line.twiss()\n",
    "twiss_data, w, w_inv = get_twiss_data(\n",
    "    twiss, nemitt_x=nemitt_x, nemitt_y=nemitt_y, _context=_context\n",
    ")"
   ]
  },
  {
   "cell_type": "code",
   "execution_count": 71,
   "metadata": {},
   "outputs": [],
   "source": [
    "twiss = line.twiss()\n",
    "twiss_data, w, w_inv = get_twiss_data(\n",
    "    twiss, nemitt_x=nemitt_x, nemitt_y=nemitt_y, _context=_context\n",
    ")"
   ]
  },
  {
   "cell_type": "code",
   "execution_count": 72,
   "metadata": {},
   "outputs": [
    {
     "name": "stdout",
     "output_type": "stream",
     "text": [
      "x: [0.0016043]\n",
      "px: [-1.19975157e-05]\n",
      "y: [-0.00244122]\n",
      "py: [-2.27476385e-05]\n",
      "zeta: [26.37805264]\n",
      "ptau: [-0.00018387]\n"
     ]
    }
   ],
   "source": [
    "line.particle_ref = xp.Particles(mass0=xp.PROTON_MASS_EV, q0=1, p0c=p0c)\n",
    "\n",
    "tmp_p = line.build_particles(\n",
    "    _context=_context,\n",
    "    x_norm=[1],\n",
    "    zeta_norm=[1],\n",
    "    nemitt_x=nemitt_x,\n",
    "    nemitt_y=nemitt_y,\n",
    ")\n",
    "\n",
    "print(\"x:\", tmp_p.x)\n",
    "print(\"px:\", tmp_p.px)\n",
    "print(\"y:\", tmp_p.y)\n",
    "print(\"py:\", tmp_p.py)\n",
    "print(\"zeta:\", tmp_p.zeta)\n",
    "print(\"ptau:\", tmp_p.ptau)"
   ]
  },
  {
   "cell_type": "code",
   "execution_count": 89,
   "metadata": {},
   "outputs": [],
   "source": [
    "normed_p = np.array(\n",
    "    [\n",
    "        [1],\n",
    "        [0],\n",
    "        [0],\n",
    "        [0],\n",
    "        [1],\n",
    "        [0],\n",
    "    ], dtype=np.float64\n",
    ")\n",
    "phys_p = xp.Particles(mass0=xp.PROTON_MASS_EV, q0=1, p0c=p0c, x=[0])"
   ]
  },
  {
   "cell_type": "code",
   "execution_count": 90,
   "metadata": {},
   "outputs": [
    {
     "name": "stdout",
     "output_type": "stream",
     "text": [
      "x: [0.0016043]\n",
      "px: [-1.19975157e-05]\n",
      "y: [-0.00244122]\n",
      "py: [-2.27476385e-05]\n",
      "zeta: [26.37805264]\n",
      "ptau: [-0.00018387]\n",
      "x: [1.]\n",
      "px: [0.]\n",
      "y: [0.]\n",
      "py: [0.]\n",
      "zeta: [1.]\n",
      "ptau: [0.]\n"
     ]
    }
   ],
   "source": [
    "norm_to_phys(normed_p, phys_p, twiss_data, w)\n",
    "print(\"x:\", phys_p.x)\n",
    "print(\"px:\", phys_p.px)\n",
    "print(\"y:\", phys_p.y)\n",
    "print(\"py:\", phys_p.py)\n",
    "print(\"zeta:\", phys_p.zeta)\n",
    "print(\"ptau:\", phys_p.ptau)\n",
    "\n",
    "print(\"x:\", normed_p[0])\n",
    "print(\"px:\", normed_p[1])\n",
    "print(\"y:\", normed_p[2])\n",
    "print(\"py:\", normed_p[3])\n",
    "print(\"zeta:\", normed_p[4])\n",
    "print(\"ptau:\", normed_p[5])"
   ]
  },
  {
   "cell_type": "code",
   "execution_count": 82,
   "metadata": {},
   "outputs": [
    {
     "name": "stdout",
     "output_type": "stream",
     "text": [
      "x: [0.0016043]\n",
      "px: [-1.19975157e-05]\n",
      "y: [-0.00244122]\n",
      "py: [-2.27476385e-05]\n",
      "zeta: [26.37805264]\n",
      "ptau: [-0.00018387]\n",
      "x: [1.]\n",
      "px: [-1.3997172e-15]\n",
      "y: [-2.96138515e-15]\n",
      "py: [2.96138515e-15]\n",
      "zeta: [1.]\n",
      "ptau: [7.05413009e-19]\n"
     ]
    }
   ],
   "source": [
    "normed_p = phys_to_norm(phys_p, normed_p, twiss_data, w_inv)\n",
    "print(\"x:\", phys_p.x)\n",
    "print(\"px:\", phys_p.px)\n",
    "print(\"y:\", phys_p.y)\n",
    "print(\"py:\", phys_p.py)\n",
    "print(\"zeta:\", phys_p.zeta)\n",
    "print(\"ptau:\", phys_p.ptau)\n",
    "\n",
    "print(\"x:\", normed_p[0])\n",
    "print(\"px:\", normed_p[1])\n",
    "print(\"y:\", normed_p[2])\n",
    "print(\"py:\", normed_p[3])\n",
    "print(\"zeta:\", normed_p[4])\n",
    "print(\"ptau:\", normed_p[5])"
   ]
  },
  {
   "cell_type": "code",
   "execution_count": 91,
   "metadata": {},
   "outputs": [
    {
     "data": {
      "text/plain": [
       "2.5e-06"
      ]
     },
     "execution_count": 91,
     "metadata": {},
     "output_type": "execute_result"
    }
   ],
   "source": [
    "nemitt_x"
   ]
  },
  {
   "cell_type": "code",
   "execution_count": 93,
   "metadata": {},
   "outputs": [
    {
     "name": "stdout",
     "output_type": "stream",
     "text": [
      "x: [1.]\n",
      "px: [-1.3997172e-15]\n",
      "y: [-2.96138515e-15]\n",
      "py: [2.96138515e-15]\n",
      "zeta: [1.]\n",
      "pzeta: [7.05413009e-19]\n"
     ]
    }
   ],
   "source": [
    "data = twiss.get_normalized_coordinates(phys_p, nemitt_x=nemitt_x, nemitt_y=nemitt_y)\n",
    "\n",
    "print(\"x:\", data[\"x_norm\"])\n",
    "print(\"px:\", data[\"px_norm\"])\n",
    "print(\"y:\", data[\"y_norm\"])\n",
    "print(\"py:\", data[\"py_norm\"])\n",
    "print(\"zeta:\", data[\"zeta_norm\"])\n",
    "print(\"pzeta:\", data[\"pzeta_norm\"])"
   ]
  },
  {
   "cell_type": "code",
   "execution_count": 30,
   "metadata": {},
   "outputs": [
    {
     "data": {
      "text/plain": [
       "[<matplotlib.lines.Line2D at 0x7f38c9496340>]"
      ]
     },
     "execution_count": 30,
     "metadata": {},
     "output_type": "execute_result"
    },
    {
     "data": {
      "image/png": "[encoded data removed]",
      "text/plain": [
       "<Figure size 432x288 with 1 Axes>"
      ]
     },
     "metadata": {
      "needs_background": "light"
     },
     "output_type": "display_data"
    }
   ],
   "source": [
    "plt.plot(twiss[\"s\"], twiss[\"dx\"])\n",
    "plt.plot(twiss[\"s\"], twiss[\"dy\"])"
   ]
  },
  {
   "cell_type": "code",
   "execution_count": 27,
   "metadata": {},
   "outputs": [
    {
     "data": {
      "text/plain": [
       "<matplotlib.collections.PathCollection at 0x7f38caee7250>"
      ]
     },
     "execution_count": 27,
     "metadata": {},
     "output_type": "execute_result"
    },
    {
     "data": {
      "image/png": "[encoded data removed]",
      "text/plain": [
       "<Figure size 432x288 with 1 Axes>"
      ]
     },
     "metadata": {
      "needs_background": "light"
     },
     "output_type": "display_data"
    }
   ],
   "source": [
    "plt.scatter(tmp_p.x, tmp_p.px)"
   ]
  },
  {
   "cell_type": "code",
   "execution_count": 28,
   "metadata": {},
   "outputs": [
    {
     "data": {
      "text/plain": [
       "<matplotlib.collections.PathCollection at 0x7f38ca4d0be0>"
      ]
     },
     "execution_count": 28,
     "metadata": {},
     "output_type": "execute_result"
    },
    {
     "data": {
      "image/png": "[encoded data removed]",
      "text/plain": [
       "<Figure size 432x288 with 1 Axes>"
      ]
     },
     "metadata": {
      "needs_background": "light"
     },
     "output_type": "display_data"
    }
   ],
   "source": [
    "plt.scatter(tmp_p.y, tmp_p.py)"
   ]
  },
  {
   "cell_type": "code",
   "execution_count": 16,
   "metadata": {},
   "outputs": [
    {
     "name": "stdout",
     "output_type": "stream",
     "text": [
      "gemitt_x 3.350971743430323e-10\n",
      "gemitt_y 3.350971743430323e-10\n"
     ]
    }
   ],
   "source": [
    "gemitt_x, gemitt_y = get_gemitt(line.particle_ref, twiss_data)\n",
    "print(\"gemitt_x\", gemitt_x)\n",
    "print(\"gemitt_y\", gemitt_y)"
   ]
  },
  {
   "cell_type": "code",
   "execution_count": 34,
   "metadata": {},
   "outputs": [
    {
     "name": "stdout",
     "output_type": "stream",
     "text": [
      "x: [0.00101345]\n",
      "px: [-1.94089939e-05]\n",
      "y: [0.00053523]\n",
      "py: [6.57948498e-06]\n",
      "zeta: [2.24530354e-05]\n",
      "ptau: [5.73712859e-06]\n"
     ]
    },
    {
     "data": {
      "text/plain": [
       "Table: 1 row, 8 cols\n",
       "particle_id at_element x_norm      px_norm y_norm     py_norm  zeta_norm ...\n",
       "          0          0      5 -3.47616e-15      2 9.89056e-16 4.1359e-23"
      ]
     },
     "execution_count": 34,
     "metadata": {},
     "output_type": "execute_result"
    }
   ],
   "source": [
    "part_norm_to_phys = line.build_particles(\n",
    "    _context=_context,\n",
    "    x_norm=[5.0],\n",
    "    px_norm=[0.0],\n",
    "    y_norm=[2.0],\n",
    "    py_norm=[0.0],\n",
    "    zeta_norm=[0.0],\n",
    "    pzeta_norm=[0.0],\n",
    "    nemitt_x=nemitt_x,\n",
    "    nemitt_y=nemitt_y,\n",
    ")\n",
    "\n",
    "# print all coordinates of part_norm_to_phys\n",
    "print(\"x:\", part_norm_to_phys.x)\n",
    "print(\"px:\", part_norm_to_phys.px)\n",
    "print(\"y:\", part_norm_to_phys.y)\n",
    "print(\"py:\", part_norm_to_phys.py)\n",
    "print(\"zeta:\", part_norm_to_phys.zeta)\n",
    "print(\"ptau:\", part_norm_to_phys.ptau)\n",
    "\n",
    "twiss.get_normalized_coordinates(part_norm_to_phys, nemitt_x, nemitt_y)"
   ]
  },
  {
   "cell_type": "code",
   "execution_count": 31,
   "metadata": {},
   "outputs": [
    {
     "name": "stdout",
     "output_type": "stream",
     "text": [
      "x: [0.00020074]\n",
      "px: [-3.93269692e-06]\n",
      "y: [0.00054065]\n",
      "py: [6.66055876e-06]\n",
      "zeta: [9.07074192e-06]\n",
      "ptau: [5.73665289e-06]\n"
     ]
    }
   ],
   "source": [
    "part_norm_to_phys = line.build_particles(\n",
    "    _context=_context,\n",
    "    x_norm=[1.0],\n",
    "    px_norm=[0.0],\n",
    "    y_norm=[2.0],\n",
    "    py_norm=[0.0],\n",
    "    zeta_norm=[0.0],\n",
    "    pzeta_norm=[0.0],\n",
    "    nemitt_x=nemitt_x,\n",
    "    nemitt_y=nemitt_y,\n",
    ")\n",
    "\n",
    "# print all coordinates of part_norm_to_phys\n",
    "print(\"x:\", part_norm_to_phys.x)\n",
    "print(\"px:\", part_norm_to_phys.px)\n",
    "print(\"y:\", part_norm_to_phys.y)\n",
    "print(\"py:\", part_norm_to_phys.py)\n",
    "print(\"zeta:\", part_norm_to_phys.zeta)\n",
    "print(\"ptau:\", part_norm_to_phys.ptau)"
   ]
  },
  {
   "cell_type": "code",
   "execution_count": 23,
   "metadata": {},
   "outputs": [
    {
     "data": {
      "text/plain": [
       "array([ 2.50000000e-06,  2.50000000e-06, -2.02594914e-07, -9.65900346e-08,\n",
       "        6.45129379e-08,  4.42997896e-09,  5.96749128e-06,  5.73638277e-06])"
      ]
     },
     "execution_count": 23,
     "metadata": {},
     "output_type": "execute_result"
    }
   ],
   "source": [
    "twiss_data"
   ]
  },
  {
   "cell_type": "code",
   "execution_count": 24,
   "metadata": {},
   "outputs": [
    {
     "data": {
      "text/plain": [
       "LinkedArrayCpu([0.99999999])"
      ]
     },
     "execution_count": 24,
     "metadata": {},
     "output_type": "execute_result"
    }
   ],
   "source": [
    "part_norm_to_phys.beta0"
   ]
  },
  {
   "cell_type": "code",
   "execution_count": 30,
   "metadata": {},
   "outputs": [
    {
     "data": {
      "text/plain": [
       "18.392651885878653"
      ]
     },
     "execution_count": 30,
     "metadata": {},
     "output_type": "execute_result"
    }
   ],
   "source": [
    "import scipy.constants as const\n",
    "\n",
    "def x_m_to_sigma(x_m):\n",
    "    proton_mass = const.m_p # kg\n",
    "\n",
    "    # energy at 7 TeV\n",
    "    proton_energy = 7000e9 # eV\n",
    "    # tev to joule\n",
    "    proton_energy *= const.e # J\n",
    "\n",
    "    # get gamma\n",
    "    proton_gamma = proton_energy/proton_mass/const.c**2\n",
    "\n",
    "    # get beta\n",
    "    proton_beta = np.sqrt(1 - 1/proton_gamma**2)\n",
    "\n",
    "    beta_x = 117.83 # m\n",
    "    beta_y = 219.64 # m\n",
    "    beta_gamma = proton_beta * proton_gamma\n",
    "    nom_emittance = 2.5e-6 # m\n",
    "\n",
    "    phys_emittance = nom_emittance / (beta_gamma)\n",
    "\n",
    "    return x_m / (np.sqrt(beta_x * phys_emittance))\n",
    "\n",
    "x_m_to_sigma(0.00365475)"
   ]
  },
  {
   "cell_type": "code",
   "execution_count": 33,
   "metadata": {},
   "outputs": [
    {
     "ename": "AttributeError",
     "evalue": "'Particles' object has no attribute 'x_norm'",
     "output_type": "error",
     "traceback": [
      "\u001b[0;31m---------------------------------------------------------------------------\u001b[0m",
      "\u001b[0;31mAttributeError\u001b[0m                            Traceback (most recent call last)",
      "\u001b[1;32m/home/camontan/Insync/carlo.montanari3@studio.unibo.it/OneDrive_Biz/projects/lhc_paper_indicators/analysis/phys_norm_converter.ipynb Cell 11\u001b[0m in \u001b[0;36m<cell line: 1>\u001b[0;34m()\u001b[0m\n\u001b[0;32m----> <a href='vscode-notebook-cell:/home/camontan/Insync/carlo.montanari3%40studio.unibo.it/OneDrive_Biz/projects/lhc_paper_indicators/analysis/phys_norm_converter.ipynb#X14sZmlsZQ%3D%3D?line=0'>1</a>\u001b[0m part_norm_to_phys\u001b[39m.\u001b[39;49mx_norm\n",
      "\u001b[0;31mAttributeError\u001b[0m: 'Particles' object has no attribute 'x_norm'"
     ]
    }
   ],
   "source": [
    "part_norm_to_phys.x_norm"
   ]
  },
  {
   "cell_type": "code",
   "execution_count": null,
   "metadata": {},
   "outputs": [],
   "source": []
  }
 ],
 "metadata": {
  "kernelspec": {
   "display_name": "base",
   "language": "python",
   "name": "python3"
  },
  "language_info": {
   "codemirror_mode": {
    "name": "ipython",
    "version": 3
   },
   "file_extension": ".py",
   "mimetype": "text/x-python",
   "name": "python",
   "nbconvert_exporter": "python",
   "pygments_lexer": "ipython3",
   "version": "3.9.12"
  },
  "orig_nbformat": 4
 },
 "nbformat": 4,
 "nbformat_minor": 2
}
