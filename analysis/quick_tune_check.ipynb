{
 "cells": [
  {
   "cell_type": "code",
   "execution_count": 1,
   "metadata": {},
   "outputs": [],
   "source": [
    "import numpy as np\n",
    "import matplotlib.pyplot as plt\n",
    "import NAFFlib as pnf"
   ]
  },
  {
   "cell_type": "code",
   "execution_count": 6,
   "metadata": {},
   "outputs": [],
   "source": [
    "tune = 0.168\n",
    "n_samples = 1024\n",
    "\n",
    "signal_x = np.array([np.cos(2 * np.pi * tune * np.arange(n_samples)) for i in range(100)])\n",
    "signal_y = np.array([np.sin(2 * np.pi * tune * np.arange(n_samples)) for i in range(100)])"
   ]
  },
  {
   "cell_type": "code",
   "execution_count": 10,
   "metadata": {},
   "outputs": [
    {
     "data": {
      "text/plain": [
       "array([0.168, 0.168, 0.168, 0.168, 0.168, 0.168, 0.168, 0.168, 0.168,\n",
       "       0.168, 0.168, 0.168, 0.168, 0.168, 0.168, 0.168, 0.168, 0.168,\n",
       "       0.168, 0.168, 0.168, 0.168, 0.168, 0.168, 0.168, 0.168, 0.168,\n",
       "       0.168, 0.168, 0.168, 0.168, 0.168, 0.168, 0.168, 0.168, 0.168,\n",
       "       0.168, 0.168, 0.168, 0.168, 0.168, 0.168, 0.168, 0.168, 0.168,\n",
       "       0.168, 0.168, 0.168, 0.168, 0.168, 0.168, 0.168, 0.168, 0.168,\n",
       "       0.168, 0.168, 0.168, 0.168, 0.168, 0.168, 0.168, 0.168, 0.168,\n",
       "       0.168, 0.168, 0.168, 0.168, 0.168, 0.168, 0.168, 0.168, 0.168,\n",
       "       0.168, 0.168, 0.168, 0.168, 0.168, 0.168, 0.168, 0.168, 0.168,\n",
       "       0.168, 0.168, 0.168, 0.168, 0.168, 0.168, 0.168, 0.168, 0.168,\n",
       "       0.168, 0.168, 0.168, 0.168, 0.168, 0.168, 0.168, 0.168, 0.168,\n",
       "       0.168])"
      ]
     },
     "execution_count": 10,
     "metadata": {},
     "output_type": "execute_result"
    }
   ],
   "source": [
    "np.array([pnf.get_tune((x)) for x in signal_x + 1j * signal_y])"
   ]
  },
  {
   "cell_type": "code",
   "execution_count": null,
   "metadata": {},
   "outputs": [],
   "source": []
  }
 ],
 "metadata": {
  "kernelspec": {
   "display_name": "base",
   "language": "python",
   "name": "python3"
  },
  "language_info": {
   "codemirror_mode": {
    "name": "ipython",
    "version": 3
   },
   "file_extension": ".py",
   "mimetype": "text/x-python",
   "name": "python",
   "nbconvert_exporter": "python",
   "pygments_lexer": "ipython3",
   "version": "3.9.12"
  },
  "orig_nbformat": 4
 },
 "nbformat": 4,
 "nbformat_minor": 2
}
