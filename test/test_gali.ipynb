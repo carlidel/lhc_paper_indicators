{
 "cells": [
  {
   "cell_type": "code",
   "execution_count": 2,
   "metadata": {},
   "outputs": [],
   "source": [
    "import datetime\n",
    "import json\n",
    "import os\n",
    "import pickle\n",
    "import time\n",
    "\n",
    "import h5py\n",
    "import matplotlib.pyplot as plt\n",
    "import numpy as np\n",
    "import xobjects as xo\n",
    "import xpart as xp\n",
    "import xtrack as xt\n",
    "from tqdm import tqdm\n",
    "import cupy as cp\n",
    "from numba import njit"
   ]
  },
  {
   "cell_type": "code",
   "execution_count": 3,
   "metadata": {},
   "outputs": [],
   "source": [
    "# import a module from ../xsuite_code\n",
    "import sys\n",
    "sys.path.append('../xsuite_code')\n",
    "import normed_dynamic_indicators as ndi"
   ]
  },
  {
   "cell_type": "code",
   "execution_count": 5,
   "metadata": {},
   "outputs": [],
   "source": [
    "@njit\n",
    "def simple_gali(gali_matrix):\n",
    "    if np.any(np.isnan(gali_matrix)):\n",
    "        return np.nan\n",
    "    else:\n",
    "        _, s, _ = np.linalg.svd(gali_matrix)\n",
    "        return np.prod(s)\n",
    "\n",
    "\n",
    "@njit\n",
    "def gali(gali_matrix):\n",
    "    gali_matrix = np.transpose(gali_matrix, (2, 0, 1))\n",
    "    gali = []\n",
    "    for m in gali_matrix:\n",
    "        gali.append(simple_gali(m))\n",
    "    gali = np.asarray(gali)\n",
    "    return gali"
   ]
  },
  {
   "cell_type": "code",
   "execution_count": 4,
   "metadata": {},
   "outputs": [
    {
     "name": "stdout",
     "output_type": "stream",
     "text": [
      "Loading line from dict:  5%  \r"
     ]
    },
    {
     "name": "stdout",
     "output_type": "stream",
     "text": [
      "Done loading line from dict.           \n"
     ]
    }
   ],
   "source": [
    "context = xo.ContextCupy()      # For CUDA GPUs\n",
    "# context = xo.ContextCpu()         # For CPU\n",
    "\n",
    "MASK_PATH = \"../masks/\"\n",
    "\n",
    "selected_mask = \"mask_b1_without_bb_21.json\"\n",
    "\n",
    "with open(f\"../masks/{selected_mask}\", \"r\") as fid:\n",
    "    loaded_dct = json.load(fid)\n",
    "\n",
    "line = xt.Line.from_dict(loaded_dct)\n",
    "line.particle_ref = xp.Particles(mass0=xp.PROTON_MASS_EV, q0=1, p0c=7e12)\n",
    "line.build_tracker(_context=context)\n",
    "twiss = line.twiss()"
   ]
  },
  {
   "cell_type": "code",
   "execution_count": 11,
   "metadata": {},
   "outputs": [],
   "source": [
    "particles = line.build_particles(\n",
    "                               zeta_norm=np.linspace(0, 4, 5), pzeta_norm=np.linspace(0, 4, 5),\n",
    "                               x_norm=0, # in sigmas\n",
    "                               y_norm=0, # in sigmas\n",
    "                               nemitt_x=2.5e-6, nemitt_y=2.5e-6, _context=context)\n"
   ]
  },
  {
   "cell_type": "code",
   "execution_count": 12,
   "metadata": {},
   "outputs": [
    {
     "data": {
      "text/plain": [
       "array([[ 0.00000000e+00,  0.00000000e+00,  0.00000000e+00,\n",
       "         0.00000000e+00,  0.00000000e+00],\n",
       "       [ 0.00000000e+00,  0.00000000e+00,  9.47643249e-14,\n",
       "         0.00000000e+00,  0.00000000e+00],\n",
       "       [ 0.00000000e+00, -2.22103886e-15, -7.40346288e-15,\n",
       "         0.00000000e+00, -5.92277031e-15],\n",
       "       [ 0.00000000e+00,  7.40346288e-16, -2.96138515e-15,\n",
       "        -5.92277031e-15, -1.18455406e-14],\n",
       "       [ 0.00000000e+00,  1.00000000e+00,  2.00000000e+00,\n",
       "         3.00000000e+00,  4.00000000e+00],\n",
       "       [ 0.00000000e+00,  1.00000000e+00,  2.00000000e+00,\n",
       "         3.00000000e+00,  4.00000000e+00]])"
      ]
     },
     "execution_count": 12,
     "metadata": {},
     "output_type": "execute_result"
    }
   ],
   "source": [
    "twiss_data, w, w_inv = ndi.get_twiss_data(twiss, 2.5e-6, 2.5e-6, _context=context)\n",
    "n_part = ndi.create_normed_placeholder(particles, twiss_data, w_inv, _context=context)\n",
    "n_part"
   ]
  },
  {
   "cell_type": "code",
   "execution_count": 14,
   "metadata": {},
   "outputs": [
    {
     "data": {
      "text/plain": [
       "array([0., 1., 2., 3., 4.])"
      ]
     },
     "execution_count": 14,
     "metadata": {},
     "output_type": "execute_result"
    }
   ],
   "source": [
    "twiss.get_normalized_coordinates(particles, nemitt_x=2.5e-6, nemitt_y=2.5e-6,)[\"zeta_norm\"]"
   ]
  },
  {
   "cell_type": "code",
   "execution_count": 23,
   "metadata": {},
   "outputs": [],
   "source": [
    "disp = 1e-6\n",
    "\n",
    "particles = line.build_particles(\n",
    "                               zeta_norm=0, pzeta_norm=0,\n",
    "                               x_norm=np.linspace(0, 4, 5), # in sigmas\n",
    "                               y_norm=np.linspace(0, 4, 5), # in sigmas\n",
    "                               nemitt_x=2.5e-6, nemitt_y=2.5e-6, _context=context)\n",
    "\n",
    "particles_x = line.build_particles(\n",
    "                               zeta_norm=disp, pzeta_norm=0,\n",
    "                               x_norm=np.linspace(0, 4, 5), # in sigmas\n",
    "                               y_norm=np.linspace(0, 4, 5), # in sigmas\n",
    "                               nemitt_x=2.5e-6, nemitt_y=2.5e-6, _context=context)\n",
    "\n",
    "particles_y = line.build_particles(\n",
    "                               zeta_norm=0, pzeta_norm=0,\n",
    "                               x_norm=np.linspace(0, 4, 5), # in sigmas\n",
    "                               y_norm=np.linspace(0, 4, 5)+disp, # in sigmas\n",
    "                               nemitt_x=2.5e-6, nemitt_y=2.5e-6, _context=context)"
   ]
  },
  {
   "cell_type": "code",
   "execution_count": 24,
   "metadata": {},
   "outputs": [],
   "source": [
    "twiss_data, w, w_inv = ndi.get_twiss_data(twiss, 2.5e-6, 2.5e-6, _context=context)"
   ]
  },
  {
   "cell_type": "code",
   "execution_count": 25,
   "metadata": {},
   "outputs": [],
   "source": [
    "n_part = ndi.create_normed_placeholder(particles, twiss_data, w_inv, _context=context)\n",
    "n_part_x = ndi.create_normed_placeholder(particles_x, twiss_data, w_inv, _context=context)\n",
    "n_part_y = ndi.create_normed_placeholder(particles_y, twiss_data, w_inv, _context=context)"
   ]
  },
  {
   "cell_type": "code",
   "execution_count": 27,
   "metadata": {},
   "outputs": [
    {
     "data": {
      "text/plain": [
       "array([[ 9.60226967e-20,  1.00000000e+00,  2.00000000e+00,\n",
       "         3.00000000e+00,  4.00000000e+00],\n",
       "       [-1.81313445e-18,  8.51687429e-15,  1.68602299e-14,\n",
       "         2.64326761e-14,  3.40270095e-14],\n",
       "       [-3.95387575e-20,  1.00000000e+00,  2.00000000e+00,\n",
       "         3.00000000e+00,  4.00000000e+00],\n",
       "       [ 2.45705136e-19, -3.70173144e-16,  7.40346288e-16,\n",
       "        -1.48069258e-15, -1.48069258e-15],\n",
       "       [ 1.00000000e-06,  1.00000000e-06,  1.00000000e-06,\n",
       "         1.00000000e-06,  1.00000000e-06],\n",
       "       [ 1.71407887e-21, -1.10519602e-20, -1.47899894e-21,\n",
       "         8.10388846e-21, -4.66364429e-21]])"
      ]
     },
     "execution_count": 27,
     "metadata": {},
     "output_type": "execute_result"
    }
   ],
   "source": [
    "n_part_x"
   ]
  },
  {
   "cell_type": "code",
   "execution_count": 28,
   "metadata": {},
   "outputs": [
    {
     "data": {
      "text/plain": [
       "(array([[ 9.60226967e-14,  0.00000000e+00,  0.00000000e+00,\n",
       "          0.00000000e+00,  0.00000000e+00],\n",
       "        [-1.81313445e-12, -3.15225568e-10, -3.09441613e-10,\n",
       "          6.82506734e-10, -3.12333590e-10],\n",
       "        [-3.95387575e-14,  0.00000000e+00, -8.88178420e-10,\n",
       "          4.44089210e-10, -8.88178420e-10],\n",
       "        [ 2.45705136e-13,  0.00000000e+00,  1.48069258e-09,\n",
       "         -1.48069258e-09,  0.00000000e+00],\n",
       "        [ 1.00000000e+00,  1.00000000e+00,  1.00000000e+00,\n",
       "          1.00000000e+00,  1.00000000e+00],\n",
       "        [ 1.71407887e-15,  1.71433182e-15,  1.71143669e-15,\n",
       "          1.71888131e-15,  1.71722695e-15]]),\n",
       " array([1.e-06, 1.e-06, 1.e-06, 1.e-06, 1.e-06]))"
      ]
     },
     "execution_count": 28,
     "metadata": {},
     "output_type": "execute_result"
    }
   ],
   "source": [
    "ndi.normalized_direction(n_part, n_part_x, particles.particle_id, particles_x.particle_id)"
   ]
  },
  {
   "cell_type": "code",
   "execution_count": 30,
   "metadata": {},
   "outputs": [
    {
     "data": {
      "text/plain": [
       "array([[ 1.00000000e+00,  0.00000000e+00, -3.46944695e-18,\n",
       "         2.22044605e-16,  0.00000000e+00,  0.00000000e+00],\n",
       "       [-1.41983898e-18,  1.00000000e+00,  5.46437895e-17,\n",
       "         0.00000000e+00, -2.75285708e-21,  1.73472348e-18],\n",
       "       [-2.40451478e-18, -2.26832035e-16,  1.00000000e+00,\n",
       "         1.19594435e-18,  0.00000000e+00,  6.93889390e-18],\n",
       "       [ 4.40457133e-20,  4.33680869e-19,  0.00000000e+00,\n",
       "         1.00000000e+00,  0.00000000e+00, -1.08420217e-19],\n",
       "       [-1.73472348e-18,  0.00000000e+00, -5.09575021e-18,\n",
       "        -3.46944695e-18,  1.00000000e+00, -1.15535294e-18],\n",
       "       [ 2.38228016e-22,  6.77626358e-21,  9.52912066e-22,\n",
       "        -4.02340650e-21,  5.93014182e-22,  1.00000000e+00]])"
      ]
     },
     "execution_count": 30,
     "metadata": {},
     "output_type": "execute_result"
    }
   ],
   "source": [
    "np.matmul(w, w_inv)"
   ]
  },
  {
   "cell_type": "code",
   "execution_count": 34,
   "metadata": {},
   "outputs": [
    {
     "data": {
      "text/plain": [
       "array([[ 9.21209499e-02,  2.97984026e-08, -1.88699086e-03,\n",
       "         1.35434108e-01, -4.12286927e-06,  2.28472518e-02],\n",
       "       [ 2.05635611e-01,  1.08550817e+01, -1.03353553e-03,\n",
       "         6.34957778e-02, -6.55104616e-06,  1.78786564e-01],\n",
       "       [ 1.48424311e-03,  9.91895813e-02,  6.74732713e-02,\n",
       "        -6.02890191e-08,  6.08260217e-06, -1.65284635e-03],\n",
       "       [ 3.75816616e-04,  3.86841534e-02, -1.80177719e-01,\n",
       "         1.48203858e+01, -3.90685486e-06, -5.45853138e-03],\n",
       "       [-4.43683984e-04,  9.45680568e-03,  3.74013735e-05,\n",
       "        -1.82961189e-03,  3.79085063e-02,  1.02853659e-06],\n",
       "       [ 3.95991616e-06,  1.21086274e-03,  2.23545594e-05,\n",
       "        -2.40330813e-03,  1.91586798e-04,  2.63793202e+01]])"
      ]
     },
     "execution_count": 34,
     "metadata": {},
     "output_type": "execute_result"
    }
   ],
   "source": [
    "# evaluate w_inv using linalg.solve\n",
    "w_inv_solve = np.linalg.solve(w, cp.eye(6))\n",
    "w_inv_solve"
   ]
  },
  {
   "cell_type": "code",
   "execution_count": 35,
   "metadata": {},
   "outputs": [
    {
     "data": {
      "text/plain": [
       "array([[ 1.00000000e+00, -2.77826807e-19, -1.77350170e-18,\n",
       "         2.23853867e-16,  2.32934060e-21,  0.00000000e+00],\n",
       "       [-6.39258454e-18,  1.00000000e+00,  5.46186713e-17,\n",
       "        -3.15075081e-18, -2.81903153e-21,  3.46944695e-18],\n",
       "       [-2.32504754e-18, -2.62789431e-16,  1.00000000e+00,\n",
       "         1.98205710e-18, -2.48815928e-21,  0.00000000e+00],\n",
       "       [ 5.08284133e-20,  2.58228582e-18, -2.09131380e-18,\n",
       "         1.00000000e+00,  1.86942818e-22,  0.00000000e+00],\n",
       "       [ 3.48223960e-18,  3.91173447e-18, -3.61407020e-18,\n",
       "        -8.25077138e-19,  1.00000000e+00, -9.11570641e-19],\n",
       "       [ 1.85288457e-22,  1.35525272e-20,  9.52912066e-22,\n",
       "        -1.35525272e-20,  0.00000000e+00,  1.00000000e+00]])"
      ]
     },
     "execution_count": 35,
     "metadata": {},
     "output_type": "execute_result"
    }
   ],
   "source": [
    "np.matmul(w, w_inv_solve)"
   ]
  },
  {
   "cell_type": "code",
   "execution_count": 43,
   "metadata": {},
   "outputs": [
    {
     "data": {
      "text/plain": [
       "<matplotlib.colorbar.Colorbar at 0x7fd74dbac490>"
      ]
     },
     "execution_count": 43,
     "metadata": {},
     "output_type": "execute_result"
    },
    {
     "data": {
      "image/png": "[encoded data removed]",
      "text/plain": [
       "<Figure size 640x480 with 2 Axes>"
      ]
     },
     "metadata": {},
     "output_type": "display_data"
    },
    {
     "data": {
      "image/png": "[encoded data removed]",
      "text/plain": [
       "<Figure size 640x480 with 2 Axes>"
      ]
     },
     "metadata": {},
     "output_type": "display_data"
    }
   ],
   "source": [
    "v1 = np.log10(np.matmul(w, w_inv)).get()\n",
    "v2 = np.log10(np.matmul(w, w_inv_solve)).get()\n",
    "\n",
    "v1[np.isclose(v1,0)] = np.nan\n",
    "v2[np.isclose(v2,0)] = np.nan\n",
    "\n",
    "plt.figure()\n",
    "plt.imshow(v1)\n",
    "plt.colorbar()\n",
    "plt.figure()\n",
    "plt.imshow(v2)\n",
    "plt.colorbar()\n"
   ]
  },
  {
   "cell_type": "code",
   "execution_count": null,
   "metadata": {},
   "outputs": [],
   "source": []
  }
 ],
 "metadata": {
  "kernelspec": {
   "display_name": "base",
   "language": "python",
   "name": "python3"
  },
  "language_info": {
   "codemirror_mode": {
    "name": "ipython",
    "version": 3
   },
   "file_extension": ".py",
   "mimetype": "text/x-python",
   "name": "python",
   "nbconvert_exporter": "python",
   "pygments_lexer": "ipython3",
   "version": "3.10.9"
  },
  "orig_nbformat": 4
 },
 "nbformat": 4,
 "nbformat_minor": 2
}
